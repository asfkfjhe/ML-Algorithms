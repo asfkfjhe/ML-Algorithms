{
  "cells": [
    {
      "cell_type": "markdown",
      "metadata": {
        "id": "view-in-github",
        "colab_type": "text"
      },
      "source": [
        "<a href=\"https://colab.research.google.com/github/asfkfjhe/ML-Algorithms/blob/main/CustomerSegmentation_using_clustering.ipynb\" target=\"_parent\"><img src=\"https://colab.research.google.com/assets/colab-badge.svg\" alt=\"Open In Colab\"/></a>"
      ]
    },
    {
      "cell_type": "code",
      "execution_count": null,
      "metadata": {
        "deletable": false,
        "editable": false,
        "id": "VEO2yc9qrFm9",
        "nbgrader": {
          "cell_type": "code",
          "checksum": "f64784098ec1bb1859ffa5ed1941e42f",
          "grade": false,
          "grade_id": "cell-ba993461738ee11d",
          "locked": true,
          "schema_version": 3,
          "solution": false,
          "task": false
        }
      },
      "outputs": [],
      "source": [
        "!pip install kmodes"
      ]
    },
    {
      "cell_type": "markdown",
      "metadata": {
        "deletable": false,
        "editable": false,
        "id": "o0crHW467XxN",
        "nbgrader": {
          "cell_type": "markdown",
          "checksum": "11ddfe02861cafd34da0164bb8de2dbe",
          "grade": false,
          "grade_id": "cell-1f33739f5627a201",
          "locked": true,
          "schema_version": 3,
          "solution": false,
          "task": false
        }
      },
      "source": [
        "# **Customer Segmentation using clustering**\n",
        "\n",
        "Customer segmentation is the process of dividing customers into specific groups or categories that best describe their common behaviors and interests. \n",
        "\n",
        "In this assignment, you will perform a customer segmentation for bank customer to identify the credit worthiness using various clustering methods.  \n",
        "\n",
        "## **Learning Objective**\n",
        "\n",
        "By the end of this assignment, a student will be able to:\n",
        "\n",
        "- Perform data analysis and identify the features suitable for clustering.\n",
        "\n",
        "- Apply different clustering methods for customer segmentation.\n",
        "\n",
        "- Analyze the results of clustering and pick the best approach."
      ]
    },
    {
      "cell_type": "markdown",
      "metadata": {
        "deletable": false,
        "editable": false,
        "id": "Z3Waen7M9s00",
        "nbgrader": {
          "cell_type": "markdown",
          "checksum": "28bd5185430d38eec996f54db503c483",
          "grade": false,
          "grade_id": "cell-e84337311ee0dfc3",
          "locked": true,
          "schema_version": 3,
          "solution": false,
          "task": false
        }
      },
      "source": [
        "## **Data Descriptions**\n",
        "\n",
        "\n",
        "\n",
        "For this assignment, we are going to use the **German Credit(Statlog) Dataset**. This data set contains data used to evaluate credit applications in Germany. It has 1000 instances with 20 categorical attributes, but in this assignment, we will use the clean version of this dataset with just `8` attributes.\n",
        "\n",
        "**Source:** https://archive.ics.uci.edu/ml/datasets/Statlog+%28German+Credit+Data%29\n",
        "\n",
        "**Author:** Professor Dr. Hans Hofmann\n",
        "\n",
        "**Original Source:** Professor Dr. Hans Hofmann, Institut f\"ur Statistik und \"Okonometrie, Universit\"at Hamburg, FB Wirtschaftswissenschaften, Von-Melle-Park 5, 2000 Hamburg 13\n",
        "\n",
        "\n",
        "**Number of Instances:** 1000\n",
        "**Number of Attributes:** 8\n",
        "\n",
        "**Attribute Information:**\n",
        "The detail information of each attribute:\n",
        "\n",
        "1. Age (numeric)\n",
        "2. Sex (text: male, female)\n",
        "3. Job (numeric: 0 - unskilled and non-resident, 1 - unskilled and resident, 2 - skilled, 3 - highly skilled)\n",
        "4. Housing (text: own, rent, or free)\n",
        "5. Saving accounts (text - little, moderate, quite rich, rich)\n",
        "6. Checking account (numeric, in DM - Deutsch Mark)\n",
        "7. Credit amount (numeric, in DM)\n",
        "8. Duration (numeric, in a month)\n",
        "9. Purpose (text: car, furniture/equipment, radio/TV, domestic appliances, repairs, education, business, vacation/others)\n"
      ]
    },
    {
      "cell_type": "code",
      "execution_count": null,
      "metadata": {
        "deletable": false,
        "editable": false,
        "id": "yirBix6t-hpk",
        "nbgrader": {
          "cell_type": "code",
          "checksum": "4362120c1ead5fed10a18a8376db3bfc",
          "grade": false,
          "grade_id": "cell-2ce7bce51d45b0af",
          "locked": true,
          "schema_version": 3,
          "solution": false,
          "task": false
        }
      },
      "outputs": [],
      "source": [
        "import pandas as pd\n",
        "import numpy as np\n",
        "import seaborn as sns\n",
        "import matplotlib.pyplot as plt\n",
        "import warnings"
      ]
    },
    {
      "cell_type": "code",
      "execution_count": null,
      "metadata": {
        "deletable": false,
        "editable": false,
        "id": "sxOQjCTGrFnF",
        "nbgrader": {
          "cell_type": "code",
          "checksum": "ef547f41df6436579a65fc77c4c6a92a",
          "grade": false,
          "grade_id": "cell-ed7126f7f2b42506",
          "locked": true,
          "schema_version": 3,
          "solution": false,
          "task": false
        }
      },
      "outputs": [],
      "source": [
        "warnings.filterwarnings(\"ignore\")\n",
        "sns.set_style('whitegrid')\n",
        "sns.set_palette('rainbow')\n",
        "\n",
        "plt.rcParams['figure.figsize'] = (10, 5)"
      ]
    },
    {
      "cell_type": "code",
      "execution_count": null,
      "metadata": {
        "deletable": false,
        "editable": false,
        "id": "gRjGn5PP8M2C",
        "nbgrader": {
          "cell_type": "code",
          "checksum": "1796dd89a053028a65fe4b2de785a19b",
          "grade": false,
          "grade_id": "cell-f1a9df6418c65c4c",
          "locked": true,
          "schema_version": 3,
          "solution": false,
          "task": false
        }
      },
      "outputs": [],
      "source": [
        "\n",
        "\n",
        "df = pd.read_csv('https://storage.googleapis.com/codehub-data/1-lv2-A-9-bank_credit.csv')\n",
        "df.head()"
      ]
    },
    {
      "cell_type": "markdown",
      "metadata": {
        "deletable": false,
        "editable": false,
        "id": "zhhI5j2hrFnJ",
        "nbgrader": {
          "cell_type": "markdown",
          "checksum": "caf22d7c0d0828d7396dea69c51f51be",
          "grade": false,
          "grade_id": "cell-f67ec718f4d4b40a",
          "locked": true,
          "schema_version": 3,
          "solution": false,
          "task": false
        }
      },
      "source": [
        "## Data Informations\n",
        "\n",
        "In the following few sections, we will visualize our data and try to get some insight into the dataset. We will see if the given attributes/features in the dataset can help in customer segmentation or not and see which clustering methods help to best segment the customers.\n",
        "\n",
        "First off, let's look at the dataset information."
      ]
    },
    {
      "cell_type": "code",
      "execution_count": null,
      "metadata": {
        "deletable": false,
        "editable": false,
        "id": "ZS_TqnJ-rFnJ",
        "nbgrader": {
          "cell_type": "code",
          "checksum": "992430d083e6f7d990722a08bf0aaec2",
          "grade": false,
          "grade_id": "cell-9bed30406dcbee06",
          "locked": true,
          "schema_version": 3,
          "solution": false,
          "task": false
        }
      },
      "outputs": [],
      "source": [
        "## Run this cell\n",
        "\n",
        "df.info()"
      ]
    },
    {
      "cell_type": "markdown",
      "metadata": {
        "deletable": false,
        "editable": false,
        "id": "Oo6glk9XrFnL",
        "nbgrader": {
          "cell_type": "markdown",
          "checksum": "1239b78ccd9182fb14228ce757787eb3",
          "grade": false,
          "grade_id": "cell-36a0cd0da22ed252",
          "locked": true,
          "schema_version": 3,
          "solution": false,
          "task": false
        }
      },
      "source": [
        "Our dataset has `9` features with `4` numerical, `5` categorical features, and `1000` instances. `Job` is a number encoded categorical feature, so in total, we have only `3` numerical features. Our `Saving accounts` and `Checking account` have some missing values. We will do some data analysis and check for the feature importance; if these features are essential, we will perform necessary measures for missing value imputation.\n",
        "\n",
        "Now, since KMeans and other clustering algorithms works with numerical features, we will first segment our customers using our available numerical attributes like customer's Age, Credit amount and Duration. Later, we will use variant of KMeans for mixed features."
      ]
    },
    {
      "cell_type": "markdown",
      "metadata": {
        "deletable": false,
        "editable": false,
        "id": "G2PvGQvPrFnM",
        "nbgrader": {
          "cell_type": "markdown",
          "checksum": "83a9c7d1885759fd30e8df408038604a",
          "grade": false,
          "grade_id": "cell-d119541846c22426",
          "locked": true,
          "schema_version": 3,
          "solution": false,
          "task": false
        }
      },
      "source": [
        "\n",
        "## **Exercise 1: Data pre-processing**  \n",
        "\n",
        "**[Points: 2]**\n",
        "\n",
        "In this exercise, you will perform some data pre-processing to fit it in a clustering model.\n",
        "\n",
        "**Task:**\n",
        "\n",
        "\n",
        "1. Check for the data skewness and outliers then use appropriate transformation to fix the skewness and de-emphasizes outliers from the data (Decide the transformation method on your own).\n",
        "2. Use `sklearn`'s standard scaler to scale the data."
      ]
    },
    {
      "cell_type": "code",
      "execution_count": null,
      "metadata": {
        "deletable": false,
        "editable": false,
        "id": "RyheQhlFrFnM",
        "nbgrader": {
          "cell_type": "code",
          "checksum": "fba579909d6da548504833b7b3e5b956",
          "grade": false,
          "grade_id": "cell-696db9d727fb4004",
          "locked": true,
          "schema_version": 3,
          "solution": false,
          "task": false
        }
      },
      "outputs": [],
      "source": [
        "## Select columns for clustering\n",
        "\n",
        "selected_cols = [\"Age\",\"Credit amount\", \"Duration\"] # using numerical features only\n",
        "cluster_data = df.loc[:, selected_cols]"
      ]
    },
    {
      "cell_type": "code",
      "execution_count": null,
      "metadata": {
        "deletable": false,
        "editable": false,
        "id": "udZZH68jrFnO",
        "nbgrader": {
          "cell_type": "code",
          "checksum": "0344b68ef51baf38692151e4cd85e862",
          "grade": false,
          "grade_id": "cell-1acda393cabc46b5",
          "locked": true,
          "schema_version": 3,
          "solution": false,
          "task": false
        }
      },
      "outputs": [],
      "source": [
        "from mpl_toolkits.mplot3d import Axes3D \n",
        "\n",
        "def _3d_data_plot(data, labels=None):\n",
        "    \"\"\"Wrapper for 3D data plot\n",
        "    \n",
        "    Parameters:\n",
        "        data: pandas dataframe\n",
        "        labels: labels of the data points(if available)\n",
        "        \n",
        "    \"\"\"\n",
        "    fig = plt.figure(figsize=(15,10))\n",
        "    ax = fig.add_subplot(111, projection='3d')\n",
        "\n",
        "    g = ax.scatter(data[\"Credit amount\"], data[\"Duration\"], data[\"Age\"], c=labels if labels is not None else 'black', cmap='rainbow')\n",
        "    ax.set_xlabel(\"Credit amount\")\n",
        "    ax.set_ylabel(\"Duration\")\n",
        "    ax.set_zlabel(\"Age\")\n",
        "    plt.tight_layout()\n",
        "    \n",
        "\n",
        "def scatter_plot(data, hue=None):\n",
        "    \"\"\"Wrapper for seaborn scatter plot.\n",
        "    \n",
        "    Parameters:\n",
        "        data: pandas dataframe\n",
        "        hue: variable to distinguish data w.r.t(optional)\n",
        "        palette: color palette(optional)\n",
        "        \n",
        "    \"\"\"\n",
        "    fig, (ax1, ax2, ax3) = plt.subplots(3,1, figsize=(8,8))\n",
        "    \n",
        "    sns.scatterplot(x=\"Credit amount\",y=\"Duration\", hue=hue, data=data, ax=ax1, palette='rainbow')\n",
        "    sns.scatterplot(x=\"Age\",y=\"Credit amount\", hue=hue, data=data, ax=ax2, palette='rainbow')\n",
        "    sns.scatterplot(x=\"Age\",y=\"Duration\", hue=hue, data=data, ax=ax3, palette='rainbow')\n",
        "    \n",
        "    plt.tight_layout()\n",
        "    \n",
        "def box_plot(df):\n",
        "    \"\"\"Wrapper for box ploting\n",
        "    \n",
        "    Parameters:\n",
        "        df: pandas dataframe\n",
        "    \"\"\"\n",
        "\n",
        "    fig, ax = plt.subplots(1,3,figsize=(20,5))\n",
        "    sns.boxplot(df['Credit amount'], ax=ax[0])\n",
        "    sns.boxplot(df['Duration'], ax=ax[1])\n",
        "    sns.boxplot(df['Age'], ax=ax[2])\n",
        "    plt.tight_layout()\n",
        "    \n",
        "def distributions_plot(df):\n",
        "    \"\"\"Wrapper for ploting data distributions\n",
        "    \n",
        "    Parameters:\n",
        "        df: pandas dataframe\n",
        "    \"\"\"\n",
        "    fig, ax = plt.subplots(1, 3, figsize=(20,5))\n",
        "    sns.distplot(df[\"Age\"], ax=ax[0])\n",
        "    sns.distplot(df[\"Credit amount\"], ax=ax[1])\n",
        "    sns.distplot(df[\"Duration\"], ax=ax[2])\n",
        "    plt.tight_layout()\n",
        "    \n"
      ]
    },
    {
      "cell_type": "code",
      "execution_count": null,
      "metadata": {
        "deletable": false,
        "editable": false,
        "id": "poXgaLyHrFnQ",
        "nbgrader": {
          "cell_type": "code",
          "checksum": "d034c370285426e0af1867c0be1fee3a",
          "grade": false,
          "grade_id": "cell-263289be0aa8c624",
          "locked": true,
          "schema_version": 3,
          "solution": false,
          "task": false
        }
      },
      "outputs": [],
      "source": [
        "## Plots\n",
        "_3d_data_plot(cluster_data)\n",
        "distributions_plot(cluster_data)\n",
        "box_plot(cluster_data)"
      ]
    },
    {
      "cell_type": "markdown",
      "metadata": {
        "deletable": false,
        "editable": false,
        "id": "4C2LfWMWrFnS",
        "nbgrader": {
          "cell_type": "markdown",
          "checksum": "49238213097a0fc6f83cf3ed64034664",
          "grade": false,
          "grade_id": "cell-ad39643214e1b037",
          "locked": true,
          "schema_version": 3,
          "solution": false,
          "task": false
        }
      },
      "source": [
        "From the distribution plot we can see that given features are right skewed and from the box plots we can identify that data has outliers."
      ]
    },
    {
      "cell_type": "code",
      "execution_count": null,
      "metadata": {
        "deletable": false,
        "id": "QWNLm54srFnT",
        "nbgrader": {
          "cell_type": "code",
          "checksum": "50fe5d55d42fd1138b378b2983d3d23b",
          "grade": false,
          "grade_id": "cell-a234af2a22c9f884",
          "locked": false,
          "schema_version": 3,
          "solution": true,
          "task": false
        },
        "tags": [
          "Ex-1-Task-1"
        ]
      },
      "outputs": [],
      "source": [
        "### Ex-1-Task-1\n",
        "skew_fix_data = None\n",
        "\n",
        "## Your code here ~ 1-4 lines\n",
        "\n",
        "### BEGIN SOLUTION\n",
        "# your code here\n",
        "raise NotImplementedError\n",
        "### END SOLUTION\n",
        "\n",
        "distributions_plot(skew_fix_data)\n",
        "box_plot(skew_fix_data)"
      ]
    },
    {
      "cell_type": "code",
      "execution_count": null,
      "metadata": {
        "deletable": false,
        "editable": false,
        "id": "sz4E6YTkrFnV",
        "nbgrader": {
          "cell_type": "code",
          "checksum": "bedc1efb67644a8e4a1b127afdf5868f",
          "grade": true,
          "grade_id": "cell-0e8c25492426234d",
          "locked": true,
          "points": 1,
          "schema_version": 3,
          "solution": false,
          "task": false
        },
        "tags": [
          "Ex-1-Task-1"
        ]
      },
      "outputs": [],
      "source": [
        "assert skew_fix_data is not None, 'Invalid data'"
      ]
    },
    {
      "cell_type": "markdown",
      "metadata": {
        "deletable": false,
        "editable": false,
        "id": "T8jDjaihrFnX",
        "nbgrader": {
          "cell_type": "markdown",
          "checksum": "22e318855b4813aa4612f9e0b0caf898",
          "grade": false,
          "grade_id": "cell-77810eae10334c87",
          "locked": true,
          "schema_version": 3,
          "solution": false,
          "task": false
        }
      },
      "source": [
        "Now that data we fixed the skewnees in data, let's scale our data using `sklearn`."
      ]
    },
    {
      "cell_type": "code",
      "execution_count": null,
      "metadata": {
        "deletable": false,
        "id": "ibfs_uhBrFnX",
        "nbgrader": {
          "cell_type": "code",
          "checksum": "6c9ae6ccdea9e2ee82c73b5943d3f591",
          "grade": false,
          "grade_id": "cell-3641a1b673ebbbc7",
          "locked": false,
          "schema_version": 3,
          "solution": true,
          "task": false
        },
        "tags": [
          "Ex-1-Task-2"
        ]
      },
      "outputs": [],
      "source": [
        "### Ex-1-Task-2\n",
        "scaler = None\n",
        "scaled_data = None\n",
        "\n",
        "## Your code here ~ 3 lines\n",
        "\n",
        "### BEGIN SOLUTION\n",
        "# your code here\n",
        "raise NotImplementedError\n",
        "### END SOLUTION"
      ]
    },
    {
      "cell_type": "code",
      "execution_count": null,
      "metadata": {
        "id": "3N5EJaPa382X"
      },
      "outputs": [],
      "source": [
        "scaled_data.mean(), scaled_data.var()"
      ]
    },
    {
      "cell_type": "code",
      "execution_count": null,
      "metadata": {
        "deletable": false,
        "editable": false,
        "id": "FgxuWPQUrFnZ",
        "nbgrader": {
          "cell_type": "code",
          "checksum": "cffa5dc13d3300d2cbd4ee20ecb3051e",
          "grade": true,
          "grade_id": "cell-ce8345eed28425eb",
          "locked": true,
          "points": 1,
          "schema_version": 3,
          "solution": false,
          "task": false
        },
        "tags": [
          "Ex-1-Task-2"
        ]
      },
      "outputs": [],
      "source": [
        "assert scaled_data is not None"
      ]
    },
    {
      "cell_type": "markdown",
      "metadata": {
        "deletable": false,
        "editable": false,
        "id": "4JTMDjwlrFnb",
        "nbgrader": {
          "cell_type": "markdown",
          "checksum": "76cf42e6c7fef282a297782df0036e65",
          "grade": false,
          "grade_id": "cell-635d75e24f47e215",
          "locked": true,
          "schema_version": 3,
          "solution": false,
          "task": false
        }
      },
      "source": [
        "\n",
        "## **Exercise 2: _K_-Means Clustering** \n",
        "\n",
        "In this exercise, you will build a `KMeans` algorithm using `sklearn` and loop over a certain cluster range of cluster values to find the best `k` clusters.\n",
        "\n",
        "**[Points: 3]**\n",
        "\n",
        "\n",
        "\n",
        "**Task:**\n",
        "\n",
        "\n",
        "1. From the certain cluster range, get the `inertia_` value from `KMeans` model for the elbow method.\n",
        "2. Get the silhouette score from `KMeans` with different random sampling.\n",
        "3. Analyze the `KMeans` results and pick the appropriate `n_clusters` value then build the final model."
      ]
    },
    {
      "cell_type": "code",
      "execution_count": null,
      "metadata": {
        "deletable": false,
        "id": "djeOjAsOrFnb",
        "nbgrader": {
          "cell_type": "code",
          "checksum": "1d034a7f4a7bb5f0904b7e9a858e6b32",
          "grade": false,
          "grade_id": "cell-b393e772739ef646",
          "locked": false,
          "schema_version": 3,
          "solution": true,
          "task": false
        },
        "tags": [
          "Ex-2-Task-1"
        ]
      },
      "outputs": [],
      "source": [
        "### Ex-2-Task-1\n",
        "clusters_range = None\n",
        "inertias = []\n",
        "kmeans = None\n",
        "\n",
        "## Your code here ~ 3-5 lines\n",
        "\n",
        "### BEGIN SOLUTION\n",
        "# your code here\n",
        "raise NotImplementedError\n",
        "### END SOLUTION\n",
        "\n",
        "plt.plot(clusters_range, inertias, marker='o')\n",
        "plt.show()"
      ]
    },
    {
      "cell_type": "markdown",
      "metadata": {
        "deletable": false,
        "editable": false,
        "id": "x_5Vbl6ZrFnd",
        "nbgrader": {
          "cell_type": "markdown",
          "checksum": "34308a3ae824c3a6d475bbf258d8d132",
          "grade": false,
          "grade_id": "cell-8602247a5b7dad7d",
          "locked": true,
          "schema_version": 3,
          "solution": false,
          "task": false
        }
      },
      "source": [
        "From the plot above, can you find the optimal number of clusters?\n",
        "\n",
        "If you can pick the optimal number of clusters, then use it to build a final model, but let's explore another alternative method for choosing optimal cluster value.\n",
        "\n",
        "Below you will generate ranges for `n_clusters` values and `random_state ` and try `KMeans` model on the different seed values with different `n_clusters`. This approach helps get the optimal cluster number where the silhouette values are stable with different `random_state` values."
      ]
    },
    {
      "cell_type": "code",
      "execution_count": null,
      "metadata": {
        "deletable": false,
        "id": "l7JGHJj2rFnd",
        "nbgrader": {
          "cell_type": "code",
          "checksum": "1f7c69ef0a1233b3eb97e712c66a5c57",
          "grade": false,
          "grade_id": "cell-b73fe5cf3df0c3c5",
          "locked": false,
          "schema_version": 3,
          "solution": true,
          "task": false
        },
        "tags": [
          "Ex-2-Task-2"
        ]
      },
      "outputs": [],
      "source": [
        "### Ex-2-Task-2\n",
        "from sklearn.metrics import silhouette_score\n",
        "\n",
        "clusters_range = None # range of cluster values\n",
        "random_range = None # range for random state\n",
        "results = [] # results list with n_clusters, random_state and silhoette score\n",
        "\n",
        "## Your code here ~ 4-8 lines\n",
        "\n",
        "### BEGIN SOLUTION\n",
        "# your code here\n",
        "raise NotImplementedError\n",
        "### END SOLUTION\n",
        "\n",
        "## Create table\n",
        "result = pd.DataFrame(results, columns=[\"n_clusters\",\"random_state\",\"silhouette_score\"])\n",
        "pivot_km = pd.pivot_table(result, index=\"n_clusters\", columns=\"random_state\", values=\"silhouette_score\")\n",
        "\n",
        "## Plot table\n",
        "plt.figure(figsize=(15,6))\n",
        "sns.heatmap(pivot_km, annot=True, linewidths=.5, fmt='.3f', cmap=sns.cm.rocket_r)\n",
        "plt.tight_layout()"
      ]
    },
    {
      "cell_type": "markdown",
      "metadata": {
        "deletable": false,
        "editable": false,
        "id": "ZQRlYYygrFnf",
        "nbgrader": {
          "cell_type": "markdown",
          "checksum": "ca6027f3d656d7c018cd6e940c5d35e7",
          "grade": false,
          "grade_id": "cell-e85b114cdbaa878f",
          "locked": true,
          "schema_version": 3,
          "solution": false,
          "task": false
        }
      },
      "source": [
        "Now, by analyzing the table above, pick the optimal `random_state` and `n_clusters` value (Pick the one with stable values) and build your final `KMeans` model."
      ]
    },
    {
      "cell_type": "code",
      "execution_count": null,
      "metadata": {
        "deletable": false,
        "id": "2XBGzMs-rFng",
        "nbgrader": {
          "cell_type": "code",
          "checksum": "77eb170d3ab3cd4c86f1e51245b28b76",
          "grade": false,
          "grade_id": "cell-4b04d21a3a02e5ed",
          "locked": false,
          "schema_version": 3,
          "solution": true,
          "task": false
        },
        "tags": [
          "Ex-2-Task-3"
        ]
      },
      "outputs": [],
      "source": [
        "### Ex-2-Task-3\n",
        "final_kmeans = None\n",
        "labels = None\n",
        "\n",
        "## Your code here ~ 2 lines\n",
        "\n",
        "### BEGIN SOLUTION\n",
        "# your code here\n",
        "raise NotImplementedError\n",
        "### END SOLUTION\n",
        "\n",
        "clustered_data = cluster_data.assign(Cluster=labels)"
      ]
    },
    {
      "cell_type": "code",
      "execution_count": null,
      "metadata": {
        "deletable": false,
        "editable": false,
        "id": "ZOEvMaMWrFnh",
        "nbgrader": {
          "cell_type": "code",
          "checksum": "6a1ae4d01eeb1abee1574f7f4e844663",
          "grade": true,
          "grade_id": "cell-734bcb9682a70933",
          "locked": true,
          "points": 3,
          "schema_version": 3,
          "solution": false,
          "task": false
        },
        "tags": [
          "Ex-2-Task-3"
        ]
      },
      "outputs": [],
      "source": []
    },
    {
      "cell_type": "code",
      "execution_count": null,
      "metadata": {
        "deletable": false,
        "editable": false,
        "id": "TJHSk176rFnj",
        "nbgrader": {
          "cell_type": "code",
          "checksum": "5bc654ff7aeb4a0eaacb12c81bda5268",
          "grade": false,
          "grade_id": "cell-3faf906ed69107d4",
          "locked": true,
          "schema_version": 3,
          "solution": false,
          "task": false
        }
      },
      "outputs": [],
      "source": [
        "## Plot clustered data\n",
        "scatter_plot(clustered_data, 'Cluster')"
      ]
    },
    {
      "cell_type": "markdown",
      "metadata": {
        "deletable": false,
        "editable": false,
        "id": "H_n2K6VxrFnl",
        "nbgrader": {
          "cell_type": "markdown",
          "checksum": "4e51ea4d0b693b5743163609b6f0fe32",
          "grade": false,
          "grade_id": "cell-8938f491ddc8d64c",
          "locked": true,
          "schema_version": 3,
          "solution": false,
          "task": false
        }
      },
      "source": [
        "### KMeans Results"
      ]
    },
    {
      "cell_type": "code",
      "execution_count": null,
      "metadata": {
        "deletable": false,
        "editable": false,
        "id": "bgl_hE_qrFnl",
        "nbgrader": {
          "cell_type": "code",
          "checksum": "b111569227ec5ff52c23931bfe45f952",
          "grade": false,
          "grade_id": "cell-ac37bacf0b17b881",
          "locked": true,
          "schema_version": 3,
          "solution": false,
          "task": false
        }
      },
      "outputs": [],
      "source": [
        "grouped_km = clustered_data.groupby(['Cluster']).mean().round(1)\n",
        "grouped_km"
      ]
    },
    {
      "cell_type": "markdown",
      "metadata": {
        "deletable": false,
        "editable": false,
        "id": "vMpGkHevrFnn",
        "nbgrader": {
          "cell_type": "markdown",
          "checksum": "48ae9097bd8bac69d9cf616ce7866a6c",
          "grade": false,
          "grade_id": "cell-541336692a2ab3c5",
          "locked": true,
          "schema_version": 3,
          "solution": false,
          "task": false
        }
      },
      "source": [
        "The above dataframe shows the age of the customer with an average credit amount and the average duration.\n",
        "\n",
        "Let's visualize the clusters in 3D for our 3-dimensional features."
      ]
    },
    {
      "cell_type": "code",
      "execution_count": null,
      "metadata": {
        "deletable": false,
        "editable": false,
        "id": "6w0AdQtKrFno",
        "nbgrader": {
          "cell_type": "code",
          "checksum": "e879d3e0a43e5f04cdd3edbfb0c495ab",
          "grade": false,
          "grade_id": "cell-e5e218a409299eb6",
          "locked": true,
          "schema_version": 3,
          "solution": false,
          "task": false
        }
      },
      "outputs": [],
      "source": [
        "_3d_data_plot(clustered_data, labels=final_kmeans.labels_)"
      ]
    },
    {
      "cell_type": "markdown",
      "metadata": {
        "deletable": false,
        "editable": false,
        "id": "Bcd_U8YwrFnp",
        "nbgrader": {
          "cell_type": "markdown",
          "checksum": "ca695497cb87a35b8ee7bdc83222080c",
          "grade": false,
          "grade_id": "cell-dbd48f61ed03a900",
          "locked": true,
          "schema_version": 3,
          "solution": false,
          "task": false
        }
      },
      "source": [
        "## **Exercise 3: Hierarchical clustering**  \n",
        "\n",
        "**[Points: 3]**\n",
        "\n",
        "Now that you have seen how `KMeans` clusters the data, let's look at the implementation of hierarchical clustering methods and analyze if it does better than `KMeans` or not. \n",
        "\n",
        "In this exercise, you will build a hierarchical clustering model and analyze the results.\n",
        "\n",
        "**Task:**\n",
        "\n",
        "\n",
        "1. Build a linkage using `scipy` for our data with `method` of your own knowledge.\n",
        "\n",
        "2. Build a dendrogram to identify the number of clusters.\n",
        "\n",
        "3. Build `AgglomerativeClustering` model from scratch with the best `n_cluster` value.\n",
        "\n"
      ]
    },
    {
      "cell_type": "code",
      "execution_count": null,
      "metadata": {
        "deletable": false,
        "id": "9V14qk-2rFnq",
        "nbgrader": {
          "cell_type": "code",
          "checksum": "edeba92fd558e92c6b5de4d29087b7b1",
          "grade": false,
          "grade_id": "cell-801e758a6c791540",
          "locked": false,
          "schema_version": 3,
          "solution": true,
          "task": false
        },
        "tags": [
          "Ex-3-Task-1"
        ]
      },
      "outputs": [],
      "source": [
        "### Ex-3-Task-1\n",
        "plt.figure(figsize=(20, 10))\n",
        "\n",
        "linkage_method = None\n",
        "\n",
        "### BEGIN SOLUTION\n",
        "# your code here\n",
        "raise NotImplementedError\n",
        "### END SOLUTION"
      ]
    },
    {
      "cell_type": "code",
      "execution_count": null,
      "metadata": {
        "deletable": false,
        "id": "ptFasSdjrFnr",
        "nbgrader": {
          "cell_type": "code",
          "checksum": "53b6057f6a9cb14c87356c141d3e0beb",
          "grade": false,
          "grade_id": "cell-3a6fb95c6e9472e7",
          "locked": false,
          "schema_version": 3,
          "solution": true,
          "task": false
        },
        "tags": [
          "Ex-3-Task-2"
        ]
      },
      "outputs": [],
      "source": [
        "### Ex-3-Task-2\n",
        "hac_model = None\n",
        "hac_labels = None\n",
        "\n",
        "### BEGIN SOLUTION\n",
        "# your code here\n",
        "raise NotImplementedError\n",
        "### END SOLUTION"
      ]
    },
    {
      "cell_type": "code",
      "execution_count": null,
      "metadata": {
        "deletable": false,
        "editable": false,
        "id": "816e7_QdrFnt",
        "nbgrader": {
          "cell_type": "code",
          "checksum": "b62b3413b34caf87d10029eca9431638",
          "grade": true,
          "grade_id": "cell-5327b999eff5fd16",
          "locked": true,
          "points": 3,
          "schema_version": 3,
          "solution": false,
          "task": false
        },
        "tags": [
          "Ex-3-Task-2"
        ]
      },
      "outputs": [],
      "source": [
        "assert hac_model is not None\n",
        "assert hac_labels is not None\n"
      ]
    },
    {
      "cell_type": "code",
      "execution_count": null,
      "metadata": {
        "deletable": false,
        "editable": false,
        "id": "jWK09bIkrFnv",
        "nbgrader": {
          "cell_type": "code",
          "checksum": "3d870819ad7835d626c0ad564f6cd9f2",
          "grade": false,
          "grade_id": "cell-46416bb09559ce4a",
          "locked": true,
          "schema_version": 3,
          "solution": false,
          "task": false
        }
      },
      "outputs": [],
      "source": [
        "df_clustered_hac = cluster_data.assign(Cluster=hac_labels)\n",
        "grouped_hac = df_clustered_hac.groupby(['Cluster']).mean().round(1)\n",
        "print(grouped_hac)\n",
        "_3d_data_plot(cluster_data, labels=hac_labels)"
      ]
    },
    {
      "cell_type": "code",
      "execution_count": null,
      "metadata": {
        "deletable": false,
        "editable": false,
        "id": "hjXXoiBurFnx",
        "nbgrader": {
          "cell_type": "code",
          "checksum": "bb7c54f5d9b05b3177f7bf25a4511837",
          "grade": false,
          "grade_id": "cell-0bae56daccc65dce",
          "locked": true,
          "schema_version": 3,
          "solution": false,
          "task": false
        }
      },
      "outputs": [],
      "source": [
        "scatter_plot(df_clustered_hac, 'Cluster')"
      ]
    },
    {
      "cell_type": "markdown",
      "metadata": {
        "deletable": false,
        "editable": false,
        "id": "9O6Lhi5GrFny",
        "nbgrader": {
          "cell_type": "markdown",
          "checksum": "bb6c6f065ac312b1e4166c8e30350808",
          "grade": false,
          "grade_id": "cell-a530ebb8753643cc",
          "locked": true,
          "schema_version": 3,
          "solution": false,
          "task": false
        }
      },
      "source": [
        "\n",
        "## **Exercise 4: _K_-Prototypes for mixed features** \n",
        "\n",
        "In this exercise, you will build a variant of `KMeans` algorithm to cluster the mixed features.\n",
        "\n",
        "**[Points: 2]**\n",
        "\n",
        "\n",
        "\n",
        "**Task:**\n",
        "\n",
        "\n",
        "1. Fill the missing values identified earlier with appropriate imputation method.\n",
        "2. Use `_K_-Prototypes` algorithm to prepare clusters from all the available features (numerical + categorical)\n",
        "3. Pass column index of categorical features as a list to an algorithm to identify the categorical features\n",
        "\n",
        "**Note:** `KPrototypes` has a same pipelie as `sklearn`'s other algorithms"
      ]
    },
    {
      "cell_type": "code",
      "execution_count": null,
      "metadata": {
        "deletable": false,
        "id": "mPBHNlzVrFnz",
        "nbgrader": {
          "cell_type": "code",
          "checksum": "95885fce60f0cdcf8698d42ea8904a63",
          "grade": false,
          "grade_id": "cell-fd3a3929419a964a",
          "locked": false,
          "schema_version": 3,
          "solution": true,
          "task": false
        },
        "tags": [
          "Ex-4-Task-1"
        ]
      },
      "outputs": [],
      "source": [
        "### Ex-4-Task-1\n",
        "from kmodes.kprototypes import KPrototypes\n",
        "\n",
        "kp_labels = None\n",
        "categorical_indexes = []\n",
        "\n",
        "### BEGIN SOLUTION\n",
        "# your code here\n",
        "raise NotImplementedError\n",
        "### END SOLUTION"
      ]
    },
    {
      "cell_type": "code",
      "execution_count": null,
      "metadata": {
        "deletable": false,
        "editable": false,
        "id": "gO68ozSArFn1",
        "nbgrader": {
          "cell_type": "code",
          "checksum": "3819e1c24fc0a7119ee9219e882be4fd",
          "grade": true,
          "grade_id": "cell-44e3c14fad87f8f4",
          "locked": true,
          "points": 2,
          "schema_version": 3,
          "solution": false,
          "task": false
        },
        "tags": [
          "Ex-4-Task-1"
        ]
      },
      "outputs": [],
      "source": []
    },
    {
      "cell_type": "code",
      "execution_count": null,
      "metadata": {
        "deletable": false,
        "editable": false,
        "id": "mEfTmf3VrFn4",
        "nbgrader": {
          "cell_type": "code",
          "checksum": "1d92d257026dc9bd6c314351b99a0624",
          "grade": false,
          "grade_id": "cell-f42e461d50a44692",
          "locked": true,
          "schema_version": 3,
          "solution": false,
          "task": false
        }
      },
      "outputs": [],
      "source": [
        "kp_assigned = df.assign(Cluster=kp_labels)\n",
        "_3d_data_plot(df, kp_labels)"
      ]
    },
    {
      "cell_type": "code",
      "execution_count": null,
      "metadata": {
        "deletable": false,
        "editable": false,
        "id": "7fRx0heZrFn6",
        "nbgrader": {
          "cell_type": "code",
          "checksum": "595bab24f385fc1f26058395f6933657",
          "grade": false,
          "grade_id": "cell-5c2e234a5adb40fb",
          "locked": true,
          "schema_version": 3,
          "solution": false,
          "task": false
        }
      },
      "outputs": [],
      "source": [
        "scatter_plot(kp_assigned, 'Cluster')"
      ]
    },
    {
      "cell_type": "code",
      "execution_count": null,
      "metadata": {
        "deletable": false,
        "editable": false,
        "id": "xm3ckbYqrFn8",
        "nbgrader": {
          "cell_type": "code",
          "checksum": "ed0f25c9cc5e7eef6a6bfbadf98bd9e5",
          "grade": false,
          "grade_id": "cell-afb36d1916a3b9a5",
          "locked": true,
          "schema_version": 3,
          "solution": false,
          "task": false
        }
      },
      "outputs": [],
      "source": [
        "fig = plt.figure(figsize = (20,15))\n",
        "axes = 320\n",
        "for cat in df.columns[categorical_indexes]:\n",
        "    axes += 1\n",
        "    fig.add_subplot(axes)\n",
        "    sns.countplot(data = kp_assigned, hue=kp_assigned['Cluster'], x = cat)\n",
        "    plt.xticks(rotation=30)\n",
        "plt.show()"
      ]
    },
    {
      "cell_type": "markdown",
      "metadata": {
        "deletable": false,
        "editable": false,
        "id": "YudozGJErFn-",
        "nbgrader": {
          "cell_type": "markdown",
          "checksum": "df4372a15621f5301a4cf1e436521d07",
          "grade": false,
          "grade_id": "cell-2fbb8eccbce1d6ff",
          "locked": true,
          "schema_version": 3,
          "solution": false,
          "task": false
        }
      },
      "source": [
        "<center>\n",
        "    <b>THE END</b>\n",
        "</center>"
      ]
    }
  ],
  "metadata": {
    "colab": {
      "provenance": [],
      "include_colab_link": true
    },
    "kernelspec": {
      "display_name": "Python 3 (ipykernel)",
      "language": "python",
      "name": "python3"
    },
    "language_info": {
      "codemirror_mode": {
        "name": "ipython",
        "version": 3
      },
      "file_extension": ".py",
      "mimetype": "text/x-python",
      "name": "python",
      "nbconvert_exporter": "python",
      "pygments_lexer": "ipython3",
      "version": "3.7.3"
    }
  },
  "nbformat": 4,
  "nbformat_minor": 0
}